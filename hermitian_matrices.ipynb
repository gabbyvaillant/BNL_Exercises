{
 "cells": [
  {
   "cell_type": "code",
   "execution_count": 2,
   "id": "0d265f84-c5ee-4e70-8035-f484fdc1a945",
   "metadata": {},
   "outputs": [
    {
     "data": {
      "text/latex": [
       "$$\n",
       "\\mathbf{I}=\n",
       "\\begin{bmatrix}\n",
       "5 & 4 + 5i & 6 - 16i  \\\\\n",
       " 4 - 5i & 13 & 7  \\\\\n",
       " 6 + 16i & 7 & 2.1  \\\\\n",
       " \\end{bmatrix}\n",
       "$$"
      ],
      "text/plain": [
       "<IPython.core.display.Latex object>"
      ]
     },
     "metadata": {},
     "output_type": "display_data"
    },
    {
     "data": {
      "text/latex": [
       "$$\n",
       "\\mathbf{G}=\n",
       "\\begin{bmatrix}\n",
       "5 & 4 + 5i & 6 - 16i  \\\\\n",
       " 4 - 5i & 13 & 7  \\\\\n",
       " 6 + 16i & 7 & 2.1  \\\\\n",
       " \\end{bmatrix}\n",
       "$$"
      ],
      "text/plain": [
       "<IPython.core.display.Latex object>"
      ]
     },
     "metadata": {},
     "output_type": "display_data"
    },
    {
     "data": {
      "text/latex": [
       "$$\n",
       "\\mathbf{Inverse}=\n",
       "\\begin{bmatrix}\n",
       "0.00454 & -0.00704 + 0.02566i & 0.01047 - 0.05089i  \\\\\n",
       " -0.00704 - 0.02566i & 0.05896 & 0.01906 + 0.01969i  \\\\\n",
       " 0.01047 + 0.05089i & 0.01906 - 0.01969i & -0.00503  \\\\\n",
       " \\end{bmatrix}\n",
       "$$"
      ],
      "text/plain": [
       "<IPython.core.display.Latex object>"
      ]
     },
     "metadata": {},
     "output_type": "display_data"
    },
    {
     "data": {
      "text/latex": [
       "$$\n",
       "\\mathbf{H}=\n",
       "\\begin{bmatrix}\n",
       "0.00454 & -0.00704 + 0.02566i & 0.01047 - 0.05089i  \\\\\n",
       " -0.00704 - 0.02566i & 0.05896 & 0.01906 + 0.01969i  \\\\\n",
       " 0.01047 + 0.05089i & 0.01906 - 0.01969i & -0.00503  \\\\\n",
       " \\end{bmatrix}\n",
       "$$"
      ],
      "text/plain": [
       "<IPython.core.display.Latex object>"
      ]
     },
     "metadata": {},
     "output_type": "display_data"
    },
    {
     "data": {
      "text/latex": [
       "$\\displaystyle \\mathbf{I^-1=Hermitian}\\;?\\;$$\\rightarrow$$\\;True$"
      ],
      "text/plain": [
       "<IPython.core.display.Math object>"
      ]
     },
     "metadata": {},
     "output_type": "display_data"
    }
   ],
   "source": [
    "# hermitian_matrices.ipynb\n",
    "# Cell 1 - Demonstrate the inverse of a Hermitian matrix is also Hermitian\n",
    "\n",
    "import numpy as np\n",
    "from IPython.display import Math\n",
    "from qiskit.visualization import array_to_latex\n",
    "\n",
    "# Matrix I is Hermitian\n",
    "I = np.array([[5, 4 + 5j, 6 - 16j], [4 - 5j, 13, 7], [6 + 16j, 7, 2.1]])\n",
    "\n",
    "# Take the dagger/conjugate transpose of I to check if Hermitian\n",
    "G = I.conj().T\n",
    "\n",
    "# Take the inverse of Matrix I\n",
    "I_inverse = np.linalg.inv(I)\n",
    "\n",
    "# Take the dagger\n",
    "H = I_inverse.conj().T\n",
    "\n",
    "display(array_to_latex(I, prefix=r\"\\mathbf{I}=\"))\n",
    "display(array_to_latex(G, prefix=r\"\\mathbf{G}=\"))\n",
    "display(array_to_latex(I_inverse, prefix=r\"\\mathbf{Inverse}=\"))\n",
    "display(array_to_latex(H, prefix=r\"\\mathbf{H}=\"))\n",
    "\n",
    "display(\n",
    "    Math(\n",
    "        rf\"\\mathbf{{I^-1=Hermitian}}\" # Q: Not registering that 1 is a part of the exponent\n",
    "        rf\"\\;?\\;$$\\rightarrow$$\\;{np.isclose(I_inverse,H).all()}\"\n",
    "    )\n",
    ")\n",
    "# I_inverse and H are equal there demonstrating the above statement"
   ]
  },
  {
   "cell_type": "code",
   "execution_count": 3,
   "id": "bed449e1-c9b1-4d8f-9f99-9b271a311353",
   "metadata": {},
   "outputs": [
    {
     "data": {
      "text/latex": [
       "$$\n",
       "\\mathbf{New I}=\n",
       "\\begin{bmatrix}\n",
       "25 & -9 + 40i & -220 - 192i  \\\\\n",
       " -9 - 40i & 169 & 49  \\\\\n",
       " -220 + 192i & 49 & 4.41  \\\\\n",
       " \\end{bmatrix}\n",
       "$$"
      ],
      "text/plain": [
       "<IPython.core.display.Latex object>"
      ]
     },
     "metadata": {},
     "output_type": "display_data"
    },
    {
     "data": {
      "text/latex": [
       "$$\n",
       "\\mathbf{J}=\n",
       "\\begin{bmatrix}\n",
       "25 & -9 + 40i & -220 - 192i  \\\\\n",
       " -9 - 40i & 169 & 49  \\\\\n",
       " -220 + 192i & 49 & 4.41  \\\\\n",
       " \\end{bmatrix}\n",
       "$$"
      ],
      "text/plain": [
       "<IPython.core.display.Latex object>"
      ]
     },
     "metadata": {},
     "output_type": "display_data"
    },
    {
     "data": {
      "text/latex": [
       "$\\displaystyle \\mathbf{(I)^n=Hermitian}\\;?\\;$$\\rightarrow$$\\;True$"
      ],
      "text/plain": [
       "<IPython.core.display.Math object>"
      ]
     },
     "metadata": {},
     "output_type": "display_data"
    }
   ],
   "source": [
    "# Cell 2\n",
    "# A Hermitian matrix raised to an integer exponent yields another Hermitian matrix\n",
    "\n",
    "# From Cell 1 we know that Matrix I is Hermitian\n",
    "\n",
    "New_I = I ** 2 # replace 2 with another integer and it will still work\n",
    "\n",
    "# Now check if New_I is Hermitian [conjugate transpose]\n",
    "\n",
    "J = New_I.conj().T\n",
    "\n",
    "display(array_to_latex(New_I, prefix=r\"\\mathbf{New I}=\"))\n",
    "display(array_to_latex(J, prefix=r\"\\mathbf{J}=\"))\n",
    "\n",
    "\n",
    "display(\n",
    "    Math(\n",
    "        rf\"\\mathbf{{(I)^n=Hermitian}}\"\n",
    "        rf\"\\;?\\;$$\\rightarrow$$\\;{np.isclose(J,New_I).all()}\"\n",
    "    )\n",
    ")\n",
    "# New_I and J are equal therefore demonstrating the above statement"
   ]
  },
  {
   "cell_type": "code",
   "execution_count": null,
   "id": "87390223-3685-41b5-8203-07fe5a166b27",
   "metadata": {},
   "outputs": [],
   "source": []
  }
 ],
 "metadata": {
  "kernelspec": {
   "display_name": "Python 3 (ipykernel)",
   "language": "python",
   "name": "python3"
  },
  "language_info": {
   "codemirror_mode": {
    "name": "ipython",
    "version": 3
   },
   "file_extension": ".py",
   "mimetype": "text/x-python",
   "name": "python",
   "nbconvert_exporter": "python",
   "pygments_lexer": "ipython3",
   "version": "3.9.13"
  }
 },
 "nbformat": 4,
 "nbformat_minor": 5
}
